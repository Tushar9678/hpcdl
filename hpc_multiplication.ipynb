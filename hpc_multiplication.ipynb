{
  "nbformat": 4,
  "nbformat_minor": 0,
  "metadata": {
    "colab": {
      "provenance": [],
      "gpuType": "T4"
    },
    "kernelspec": {
      "name": "python3",
      "display_name": "Python 3"
    },
    "language_info": {
      "name": "python"
    },
    "accelerator": "GPU"
  },
  "cells": [
    {
      "cell_type": "code",
      "execution_count": 1,
      "metadata": {
        "id": "aSfbtkW_tKeB",
        "colab": {
          "base_uri": "https://localhost:8080/"
        },
        "outputId": "a8b71c62-9651-4949-8d4a-6c20d0232b89"
      },
      "outputs": [
        {
          "output_type": "stream",
          "name": "stdout",
          "text": [
            "nvcc: NVIDIA (R) Cuda compiler driver\n",
            "Copyright (c) 2005-2024 NVIDIA Corporation\n",
            "Built on Thu_Jun__6_02:18:23_PDT_2024\n",
            "Cuda compilation tools, release 12.5, V12.5.82\n",
            "Build cuda_12.5.r12.5/compiler.34385749_0\n"
          ]
        }
      ],
      "source": [
        "!nvcc --version"
      ]
    },
    {
      "cell_type": "code",
      "source": [
        "%%writefile multiply.cu\n",
        "#include <iostream>\n",
        "#include <cuda_runtime.h>\n",
        "\n",
        "// Kernel for matrix multiplication\n",
        "__global__ void matmul(int* A, int* B, int* C, int N) {\n",
        "    int row = blockIdx.y * blockDim.y + threadIdx.y;\n",
        "    int col = blockIdx.x * blockDim.x + threadIdx.x;\n",
        "    if (row < N && col < N) {\n",
        "        int sum = 0;\n",
        "        for (int k = 0; k < N; k++) {\n",
        "            sum += A[row * N + k] * B[k * N + col];\n",
        "        }\n",
        "        C[row * N + col] = sum;\n",
        "    }\n",
        "}\n",
        "\n",
        "void matrixMultiplication() {\n",
        "    int N = 512;\n",
        "    int size = N * N * sizeof(int);\n",
        "    int *A, *B, *C, *d_A, *d_B, *d_C;\n",
        "\n",
        "    cudaMallocHost(&A, size);\n",
        "    cudaMallocHost(&B, size);\n",
        "    cudaMallocHost(&C, size);\n",
        "    cudaMalloc(&d_A, size);\n",
        "    cudaMalloc(&d_B, size);\n",
        "    cudaMalloc(&d_C, size);\n",
        "\n",
        "    // Initialize matrices with smaller values to avoid overflow\n",
        "    for (int i = 0; i < N * N; i++) {\n",
        "        A[i] = (i % 10) + 1;\n",
        "        B[i] = (i % 10) + 1;\n",
        "    }\n",
        "\n",
        "    cudaMemcpy(d_A, A, size, cudaMemcpyHostToDevice);\n",
        "    cudaMemcpy(d_B, B, size, cudaMemcpyHostToDevice);\n",
        "\n",
        "    dim3 blockSize(16, 16);\n",
        "    dim3 gridSize((N + 15) / 16, (N + 15) / 16);\n",
        "    matmul<<<gridSize, blockSize>>>(d_A, d_B, d_C, N);\n",
        "    cudaDeviceSynchronize();\n",
        "\n",
        "    cudaMemcpy(C, d_C, size, cudaMemcpyDeviceToHost);\n",
        "\n",
        "    std::cout << \"Matrix Multiplication Result (First 5x5 values):\\n\";\n",
        "    for (int i = 0; i < 5; i++) {\n",
        "        for (int j = 0; j < 5; j++) {\n",
        "            std::cout << C[i * N + j] << \" \";\n",
        "        }\n",
        "        std::cout << \"\\n\";\n",
        "    }\n",
        "    std::cout << std::flush;\n",
        "\n",
        "    cudaFree(d_A); cudaFree(d_B); cudaFree(d_C);\n",
        "    cudaFreeHost(A); cudaFreeHost(B); cudaFreeHost(C);\n",
        "}\n",
        "\n",
        "int main() {\n",
        "    matrixMultiplication();\n",
        "    return 0;\n",
        "}"
      ],
      "metadata": {
        "colab": {
          "base_uri": "https://localhost:8080/"
        },
        "id": "O6Ef1D58yV0r",
        "outputId": "74d02500-f659-47bd-e8e0-8580524e3bdd"
      },
      "execution_count": 2,
      "outputs": [
        {
          "output_type": "stream",
          "name": "stdout",
          "text": [
            "Writing multiply.cu\n"
          ]
        }
      ]
    },
    {
      "cell_type": "code",
      "source": [
        "!nvcc -arch=sm_75 multiply.cu -o multiply"
      ],
      "metadata": {
        "id": "zh3RtXXXyjLz"
      },
      "execution_count": 3,
      "outputs": []
    },
    {
      "cell_type": "code",
      "source": [
        "!./multiply"
      ],
      "metadata": {
        "id": "t1IHPOc6yoJr",
        "colab": {
          "base_uri": "https://localhost:8080/"
        },
        "outputId": "63700479-2b22-47b0-f549-09494f9d53e1"
      },
      "execution_count": 4,
      "outputs": [
        {
          "output_type": "stream",
          "name": "stdout",
          "text": [
            "Matrix Multiplication Result (First 5x5 values):\n",
            "16072 18880 14038 16846 13024 \n",
            "13020 15832 14054 16866 16108 \n",
            "14048 16864 13050 15866 13072 \n",
            "14056 16876 16126 18946 14116 \n",
            "13044 15868 13082 15906 14140 \n"
          ]
        }
      ]
    },
    {
      "cell_type": "code",
      "source": [],
      "metadata": {
        "id": "H39tYCB0yrDz"
      },
      "execution_count": null,
      "outputs": []
    }
  ]
}